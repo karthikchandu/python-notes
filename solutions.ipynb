{
 "cells": [
  {
   "cell_type": "code",
   "execution_count": null,
   "metadata": {},
   "outputs": [],
   "source": [
    "marks = int(input(\"Enter your marks -\"))\n",
    "type(marks)\n"
   ]
  },
  {
   "cell_type": "code",
   "execution_count": null,
   "metadata": {},
   "outputs": [],
   "source": [
    "if marks>= 85:\n",
    "    print(\"A\")\n",
    "elif marks >="
   ]
  },
  {
   "cell_type": "code",
   "execution_count": 3,
   "metadata": {},
   "outputs": [
    {
     "name": "stdout",
     "output_type": "stream",
     "text": [
      "119\n",
      "Enter ur guessing score - in between 1 to 250 -180\n",
      "180\n",
      "ok to go head\n",
      "you are not true indain fan\n"
     ]
    }
   ],
   "source": [
    "import random\n",
    "computer_gen_score = random.randint(1,250)\n",
    "print(computer_gen_score)\n",
    "\n",
    "user_score = int(input(\"Enter ur guessing score - in between 1 to 250 -\"))\n",
    "print(user_score)\n",
    "type(user_score)\n",
    "if user_score > 250 and user_score<1:\n",
    "    print(\"Reduce your expectation fro 20_20 cricekt\")\n",
    "else:\n",
    "    print(\"ok to go head\")\n",
    "check_range = computer_gen_score - user_score\n",
    "check_range =abs(check_range)\n",
    "if check_range <= 10 and check_range>=1:\n",
    "        \n",
    "        print(\"you are true indain fan\")\n",
    "else:\n",
    "    \n",
    "    print(\"you are not true indain fan\")"
   ]
  },
  {
   "cell_type": "code",
   "execution_count": null,
   "metadata": {},
   "outputs": [],
   "source": []
  }
 ],
 "metadata": {
  "kernelspec": {
   "display_name": "Python 3",
   "language": "python",
   "name": "python3"
  },
  "language_info": {
   "codemirror_mode": {
    "name": "ipython",
    "version": 3
   },
   "file_extension": ".py",
   "mimetype": "text/x-python",
   "name": "python",
   "nbconvert_exporter": "python",
   "pygments_lexer": "ipython3",
   "version": "3.7.4"
  }
 },
 "nbformat": 4,
 "nbformat_minor": 2
}
